{
 "cells": [
  {
   "cell_type": "code",
   "execution_count": null,
   "id": "5bbab68f-a43b-48ee-b97c-3ccc04a5ee9c",
   "metadata": {},
   "outputs": [],
   "source": [
    "understanding the variable in python:"
   ]
  },
  {
   "cell_type": "code",
   "execution_count": 5,
   "id": "8b7d6f66-14d6-4db3-b734-21a7c8d82cf7",
   "metadata": {},
   "outputs": [],
   "source": [
    "x = 2\n",
    "y = 3"
   ]
  },
  {
   "cell_type": "code",
   "execution_count": 6,
   "id": "f498c45e-2732-4f47-bb66-d96d596adca0",
   "metadata": {},
   "outputs": [
    {
     "name": "stdout",
     "output_type": "stream",
     "text": [
      "5\n"
     ]
    }
   ],
   "source": [
    "z = x+y \n",
    "\n",
    "print(z) "
   ]
  },
  {
   "cell_type": "code",
   "execution_count": null,
   "id": "c683505d-779a-4593-823b-8894a063be03",
   "metadata": {},
   "outputs": [],
   "source": [
    "rules for declaring the variables in python:"
   ]
  },
  {
   "cell_type": "code",
   "execution_count": null,
   "id": "fa374669-50a8-465f-9e03-4b2b588e0e75",
   "metadata": {},
   "outputs": [],
   "source": [
    "rule no - 1: No Namespace While declaring the variable in python:"
   ]
  },
  {
   "cell_type": "code",
   "execution_count": 7,
   "id": "34cde158-fa61-4c69-96f4-f5aab5761c32",
   "metadata": {},
   "outputs": [
    {
     "ename": "SyntaxError",
     "evalue": "invalid syntax (3305297325.py, line 1)",
     "output_type": "error",
     "traceback": [
      "\u001b[1;36m  Cell \u001b[1;32mIn[7], line 1\u001b[1;36m\u001b[0m\n\u001b[1;33m    first name = 'Affan'\u001b[0m\n\u001b[1;37m          ^\u001b[0m\n\u001b[1;31mSyntaxError\u001b[0m\u001b[1;31m:\u001b[0m invalid syntax\n"
     ]
    }
   ],
   "source": [
    "first name = 'Affan'\n",
    "\n",
    "print(first name)"
   ]
  },
  {
   "cell_type": "code",
   "execution_count": 8,
   "id": "9c88cad8-7b21-434a-9e56-a3bbc49e80e9",
   "metadata": {},
   "outputs": [
    {
     "name": "stdout",
     "output_type": "stream",
     "text": [
      "Affan\n"
     ]
    }
   ],
   "source": [
    "firstname = 'Affan'\n",
    "\n",
    "print(firstname)"
   ]
  },
  {
   "cell_type": "code",
   "execution_count": null,
   "id": "acdda901-eeb0-4f15-977b-9ae0a5d9d165",
   "metadata": {},
   "outputs": [],
   "source": [
    "rule no 2 : A variable name should not start with a number**"
   ]
  },
  {
   "cell_type": "code",
   "execution_count": 9,
   "id": "38964dd4-d523-47c1-822a-0a3474c537ef",
   "metadata": {},
   "outputs": [
    {
     "ename": "SyntaxError",
     "evalue": "invalid decimal literal (3886468308.py, line 1)",
     "output_type": "error",
     "traceback": [
      "\u001b[1;36m  Cell \u001b[1;32mIn[9], line 1\u001b[1;36m\u001b[0m\n\u001b[1;33m    1name = 'ayman'\u001b[0m\n\u001b[1;37m    ^\u001b[0m\n\u001b[1;31mSyntaxError\u001b[0m\u001b[1;31m:\u001b[0m invalid decimal literal\n"
     ]
    }
   ],
   "source": [
    "1name = 'ayman'\n",
    "\n",
    "print(1name)"
   ]
  },
  {
   "cell_type": "code",
   "execution_count": 10,
   "id": "f528f31e-1f3d-43a7-925f-7c5afd102b74",
   "metadata": {},
   "outputs": [
    {
     "name": "stdout",
     "output_type": "stream",
     "text": [
      "ayman\n"
     ]
    }
   ],
   "source": [
    "name1 = 'ayman'\n",
    "\n",
    "print(name1)"
   ]
  },
  {
   "cell_type": "code",
   "execution_count": null,
   "id": "495484ab-66ba-4252-abcd-cf01e9d10790",
   "metadata": {},
   "outputs": [],
   "source": [
    "rule no 3: A variable name should not contain any special characters"
   ]
  },
  {
   "cell_type": "code",
   "execution_count": null,
   "id": "a89152d9-2578-44b8-a39a-ba8d3a4eaf6a",
   "metadata": {},
   "outputs": [],
   "source": [
    "@ $ # % & *"
   ]
  },
  {
   "cell_type": "code",
   "execution_count": 11,
   "id": "16997601-52c3-45b0-8316-8281d2ddff41",
   "metadata": {},
   "outputs": [
    {
     "ename": "SyntaxError",
     "evalue": "invalid syntax (3828972452.py, line 1)",
     "output_type": "error",
     "traceback": [
      "\u001b[1;36m  Cell \u001b[1;32mIn[11], line 1\u001b[1;36m\u001b[0m\n\u001b[1;33m    name@ = 'naveen'\u001b[0m\n\u001b[1;37m          ^\u001b[0m\n\u001b[1;31mSyntaxError\u001b[0m\u001b[1;31m:\u001b[0m invalid syntax\n"
     ]
    }
   ],
   "source": [
    "name@ = 'naveen'\n",
    "\n",
    "print(name@)"
   ]
  },
  {
   "cell_type": "code",
   "execution_count": null,
   "id": "05d96dea-0a2f-4b6f-bb72-aaba31a08fbf",
   "metadata": {},
   "outputs": [],
   "source": [
    "introduction to datatypes in python :"
   ]
  },
  {
   "cell_type": "code",
   "execution_count": null,
   "id": "5d976b39-b955-4830-a7e5-645c4fec835f",
   "metadata": {},
   "outputs": [],
   "source": [
    "1. string ===> str\n",
    "2. Number ( integers (int) and floats (decimals 0.1,0.2))\n",
    "3. lists ===> list\n",
    "4 tuples ===> tuple\n",
    "5. Dictionaries ===> dict"
   ]
  },
  {
   "cell_type": "code",
   "execution_count": null,
   "id": "3255a991-3ada-4c5a-aa6e-517b8b3f00d2",
   "metadata": {},
   "outputs": [],
   "source": [
    "classification of datatypes ;\n",
    "\n",
    " 1. mutable datatypes ===> which we can edit and alter ===> flexible in nature\n",
    " 2. immutable datatypes ===> which we cannot be able to edit or later ===> fixed in nature"
   ]
  },
  {
   "cell_type": "code",
   "execution_count": null,
   "id": "18922baf-256c-4684-ac26-e9883e6abc91",
   "metadata": {},
   "outputs": [],
   "source": []
  },
  {
   "cell_type": "code",
   "execution_count": null,
   "id": "772bb565-5cbf-4de0-92de-839943e98c2f",
   "metadata": {},
   "outputs": [],
   "source": [
    "introduction to string datatype :\n",
    "\n",
    "Defination : A string is a combination of series of characters declared in quotes.\n",
    "\n",
    "classification : it is classified as immutable datatypes\n",
    "\n",
    "how to declare the string datatype -------?\n",
    "\n",
    "1. single quote\n",
    "\n",
    "2. double quote"
   ]
  },
  {
   "cell_type": "code",
   "execution_count": 12,
   "id": "5596c711-9bbf-40a2-8700-4aaa59fcf496",
   "metadata": {},
   "outputs": [
    {
     "name": "stdout",
     "output_type": "stream",
     "text": [
      "karthik\n"
     ]
    }
   ],
   "source": [
    "name = 'karthik'\n",
    "\n",
    "print(name)"
   ]
  },
  {
   "cell_type": "code",
   "execution_count": 13,
   "id": "09dfd947-11f0-4600-ad70-507433f08202",
   "metadata": {},
   "outputs": [
    {
     "name": "stdout",
     "output_type": "stream",
     "text": [
      "rahim\n"
     ]
    }
   ],
   "source": [
    "name2 = \"rahim\"\n",
    "\n",
    "print(name2)"
   ]
  },
  {
   "cell_type": "code",
   "execution_count": null,
   "id": "c3db064b-a8f6-4484-a81c-b35ac0df8ffd",
   "metadata": {},
   "outputs": [],
   "source": []
  },
  {
   "cell_type": "code",
   "execution_count": null,
   "id": "e0647c85-3af0-4ef2-999b-1fb0ed794c28",
   "metadata": {},
   "outputs": [],
   "source": [
    "introduction to string methods :"
   ]
  },
  {
   "cell_type": "code",
   "execution_count": 14,
   "id": "1a353a51-f343-4702-85ae-4122e6af6e6d",
   "metadata": {},
   "outputs": [
    {
     "data": {
      "text/plain": [
       "str"
      ]
     },
     "execution_count": 14,
     "metadata": {},
     "output_type": "execute_result"
    }
   ],
   "source": [
    "type(name)"
   ]
  },
  {
   "cell_type": "code",
   "execution_count": 15,
   "id": "28bf5d07-324b-48e4-8610-62b44cb59c1f",
   "metadata": {},
   "outputs": [
    {
     "data": {
      "text/plain": [
       "str"
      ]
     },
     "execution_count": 15,
     "metadata": {},
     "output_type": "execute_result"
    }
   ],
   "source": [
    "type(name2)"
   ]
  },
  {
   "cell_type": "code",
   "execution_count": 16,
   "id": "61022245-6b98-4bd3-9105-261121c85f8d",
   "metadata": {},
   "outputs": [
    {
     "name": "stdout",
     "output_type": "stream",
     "text": [
      "rahul patil\n"
     ]
    }
   ],
   "source": [
    "fullname = 'rahul patil'\n",
    "\n",
    "print(fullname)"
   ]
  },
  {
   "cell_type": "code",
   "execution_count": 17,
   "id": "b1d1b078-03e6-4517-9504-974979a6bcc4",
   "metadata": {},
   "outputs": [
    {
     "name": "stdout",
     "output_type": "stream",
     "text": [
      "Rahul Patil\n"
     ]
    }
   ],
   "source": [
    "print(fullname.title())"
   ]
  },
  {
   "cell_type": "code",
   "execution_count": null,
   "id": "92e905b4-ac7d-4a82-9204-ea1659f5ec5d",
   "metadata": {},
   "outputs": [],
   "source": [
    "#req : want the full name in capital letters"
   ]
  },
  {
   "cell_type": "code",
   "execution_count": 18,
   "id": "08a18971-168d-42c6-a3fe-26599120e95c",
   "metadata": {},
   "outputs": [
    {
     "name": "stdout",
     "output_type": "stream",
     "text": [
      "RAHUL PATIL\n"
     ]
    }
   ],
   "source": [
    "print(fullname.upper())"
   ]
  },
  {
   "cell_type": "code",
   "execution_count": null,
   "id": "c0cfba37-cd6d-45a0-a59a-7bf74da9a926",
   "metadata": {},
   "outputs": [],
   "source": [
    "# req: want the full name in small case letter"
   ]
  },
  {
   "cell_type": "code",
   "execution_count": 19,
   "id": "bd3e31cc-31ad-4556-861a-d93918c52f43",
   "metadata": {},
   "outputs": [
    {
     "name": "stdout",
     "output_type": "stream",
     "text": [
      "rahul patil\n"
     ]
    }
   ],
   "source": [
    "print(fullname.lower())"
   ]
  },
  {
   "cell_type": "code",
   "execution_count": null,
   "id": "c572d70c-49e1-4236-a341-f0dc24058ecf",
   "metadata": {},
   "outputs": [],
   "source": [
    "# is used for commenting the lines"
   ]
  }
 ],
 "metadata": {
  "kernelspec": {
   "display_name": "Python 3 (ipykernel)",
   "language": "python",
   "name": "python3"
  },
  "language_info": {
   "codemirror_mode": {
    "name": "ipython",
    "version": 3
   },
   "file_extension": ".py",
   "mimetype": "text/x-python",
   "name": "python",
   "nbconvert_exporter": "python",
   "pygments_lexer": "ipython3",
   "version": "3.11.7"
  }
 },
 "nbformat": 4,
 "nbformat_minor": 5
}
